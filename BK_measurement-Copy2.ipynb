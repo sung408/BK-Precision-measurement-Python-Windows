{
 "cells": [
  {
   "cell_type": "markdown",
   "id": "b741696f",
   "metadata": {},
   "source": [
    "install pyvisa, pyusb, pyvisa-py, NI-visa from NI"
   ]
  },
  {
   "cell_type": "code",
   "execution_count": 1,
   "id": "aacae025",
   "metadata": {},
   "outputs": [
    {
     "name": "stdout",
     "output_type": "stream",
     "text": [
      "{'1': 'USB0::0xFFFF::0x9200::802204020766810007::INSTR', '2': 'USB0::0xFFFF::0x9200::802204020757710047::INSTR'}\n",
      "2\n"
     ]
    }
   ],
   "source": [
    "import pyvisa as visa\n",
    "import time\n",
    "import numpy as np\n",
    "import pandas as pd\n",
    "import matplotlib.pyplot as plt\n",
    "from time import sleep\n",
    "\n",
    "\n",
    "rm=visa.ResourceManager()\n",
    "lst=rm.list_resources()\n",
    "dev_num=1\n",
    "dev_list={}\n",
    "\n",
    "for dev in lst:\n",
    "    if dev[:3]==\"USB\":\n",
    "        \n",
    "        inst= str(dev_num)\n",
    "        dev_list.update({inst:dev})\n",
    "        dev_num+=1\n",
    "        \n",
    "        \n",
    "print (dev_list)        \n",
    "num_inst=len(dev_list)  \n",
    "print (num_inst)\n",
    "\n"
   ]
  },
  {
   "cell_type": "code",
   "execution_count": 2,
   "id": "fd837fa3",
   "metadata": {},
   "outputs": [
    {
     "name": "stdout",
     "output_type": "stream",
     "text": [
      "USB0::0xFFFF::0x9200::802204020757710047::INSTR\n"
     ]
    }
   ],
   "source": [
    "print (dev_list['2'])"
   ]
  },
  {
   "cell_type": "code",
   "execution_count": 3,
   "id": "d1e4e9bd",
   "metadata": {},
   "outputs": [],
   "source": [
    "Test_Volt=[9,12,16,12]"
   ]
  },
  {
   "cell_type": "code",
   "execution_count": 4,
   "id": "4211824e",
   "metadata": {},
   "outputs": [
    {
     "data": {
      "text/plain": [
       "<'USBInstrument'('USB0::0xFFFF::0x9200::802204020766810007::0::INSTR')>"
      ]
     },
     "execution_count": 4,
     "metadata": {},
     "output_type": "execute_result"
    }
   ],
   "source": [
    "t1 = rm.open_resource(dev_list[\"1\"])\n",
    "t2 = rm.open_resource(dev_list[\"2\"])\n",
    "\n",
    "t1"
   ]
  },
  {
   "cell_type": "code",
   "execution_count": 5,
   "id": "9dfeb89c",
   "metadata": {},
   "outputs": [
    {
     "data": {
      "text/plain": [
       "6"
      ]
     },
     "execution_count": 5,
     "metadata": {},
     "output_type": "execute_result"
    }
   ],
   "source": [
    "# t1.write('Sour:appl 0:20')   #min max volt\n",
    "# t2.write('Sour:appl 0:20')\n",
    "\n",
    "t1.write('*cls')\n",
    "t2.write('*cls')\n",
    "\n",
    "# t1.write('volt 1.1')"
   ]
  },
  {
   "cell_type": "code",
   "execution_count": 6,
   "id": "a9fe429e",
   "metadata": {},
   "outputs": [
    {
     "data": {
      "text/plain": [
       "9"
      ]
     },
     "execution_count": 6,
     "metadata": {},
     "output_type": "execute_result"
    }
   ],
   "source": [
    "t1.write('volt 11')\n",
    "t1.write('volt 22')"
   ]
  },
  {
   "cell_type": "code",
   "execution_count": 7,
   "id": "01c0d85e",
   "metadata": {},
   "outputs": [
    {
     "name": "stdout",
     "output_type": "stream",
     "text": [
      "8.996\n",
      "8.997\n",
      "8.998\n",
      "8.998\n",
      "8.998\n",
      "8.998\n",
      "8.998\n",
      "8.998\n",
      "8.999\n",
      "8.998\n",
      "11.991\n",
      "11.995\n",
      "11.999\n",
      "11.999\n",
      "11.999\n",
      "11.999\n",
      "11.999\n",
      "11.999\n",
      "11.999\n",
      "11.999\n",
      "15.997\n",
      "15.998\n",
      "15.999\n",
      "15.999\n",
      "16\n",
      "16\n",
      "16\n",
      "16\n",
      "15.999\n",
      "16\n",
      "12.001\n",
      "12\n",
      "11.999\n",
      "11.999\n",
      "11.999\n",
      "11.999\n",
      "11.999\n",
      "11.999\n",
      "11.999\n",
      "11.999\n"
     ]
    }
   ],
   "source": [
    "V1=[]\n",
    "I1=[]\n",
    "P1=[]\n",
    "\n",
    "V2=[]\n",
    "I2=[]\n",
    "P2=[]\n",
    "\n",
    "wait_after_bias_change=0.5   #sec\n",
    "each_volt_measure_cycle=10\n",
    "iteration_interval=0.5\n",
    "\n",
    "\n",
    "for bias in Test_Volt:\n",
    "    t1.write('output 1')\n",
    "    t2.write('output 1')\n",
    "    \n",
    "    for i in range (each_volt_measure_cycle):\n",
    "        \n",
    "        t1.write('volt ' + str(bias))\n",
    "        t2.write('volt ' + str(bias))\n",
    "\n",
    "        sleep(wait_after_bias_change)\n",
    "        \n",
    "        t1.write('MEAS:VOLT?')\n",
    "        volt1=t1.read().strip('\\n')\n",
    "        t2.write('MEAS:VOLT?')\n",
    "        volt2=t2.read().strip('\\n')\n",
    "\n",
    "        t1.write('MEAS:CURR?')\n",
    "        curr1=t1.read().strip('\\n')        \n",
    "        t2.write('MEAS:CURR?')\n",
    "        curr2=t2.read().strip('\\n')\n",
    "\n",
    "\n",
    "        t1.write('MEAS:POW?')\n",
    "        pwr1=t1.read().strip('\\n')\n",
    "        \n",
    "        t2.write('MEAS:POW?')\n",
    "        pwr2=t2.read().strip('\\n')\n",
    "\n",
    "        sleep (iteration_interval)\n",
    "\n",
    "        V1.append(volt1)\n",
    "        I1.append(curr1)\n",
    "        P1.append(pwr1)\n",
    "      \n",
    "        \n",
    "        V2.append(volt2)\n",
    "        I2.append(curr2)\n",
    "        P2.append(pwr2)\n",
    "        \n",
    "        print (volt2)\n",
    "            \n"
   ]
  },
  {
   "cell_type": "code",
   "execution_count": 8,
   "id": "58885c8d",
   "metadata": {},
   "outputs": [
    {
     "name": "stdout",
     "output_type": "stream",
     "text": [
      "['8.996', '8.997', '8.998', '8.998', '8.998', '8.998', '8.998', '8.998', '8.999', '8.998', '11.996', '11.997', '11.998', '11.998', '11.998', '11.998', '11.998', '11.998', '11.998', '11.998', '15.996', '15.997', '15.998', '15.998', '15.999', '15.998', '15.999', '15.999', '15.999', '15.998', '12', '12', '11.999', '11.998', '11.998', '11.998', '11.998', '11.998', '11.998', '11.998']\n",
      "['8.996', '8.997', '8.998', '8.998', '8.998', '8.998', '8.998', '8.998', '8.999', '8.998', '11.991', '11.995', '11.999', '11.999', '11.999', '11.999', '11.999', '11.999', '11.999', '11.999', '15.997', '15.998', '15.999', '15.999', '16', '16', '16', '16', '15.999', '16', '12.001', '12', '11.999', '11.999', '11.999', '11.999', '11.999', '11.999', '11.999', '11.999']\n"
     ]
    }
   ],
   "source": [
    "print (V1)\n",
    "print (V2)"
   ]
  },
  {
   "cell_type": "code",
   "execution_count": 9,
   "id": "ebad260e",
   "metadata": {},
   "outputs": [
    {
     "data": {
      "text/plain": [
       "6"
      ]
     },
     "execution_count": 9,
     "metadata": {},
     "output_type": "execute_result"
    }
   ],
   "source": [
    "t1.write('*cls')\n",
    "t2.write('*cls')"
   ]
  },
  {
   "cell_type": "code",
   "execution_count": null,
   "id": "44b9d43b",
   "metadata": {},
   "outputs": [],
   "source": []
  },
  {
   "cell_type": "code",
   "execution_count": null,
   "id": "9094a2bb",
   "metadata": {},
   "outputs": [],
   "source": []
  },
  {
   "cell_type": "code",
   "execution_count": 10,
   "id": "c40ed5b7",
   "metadata": {},
   "outputs": [
    {
     "name": "stdout",
     "output_type": "stream",
     "text": [
      "C:\\temp\\t21664391113.csv\n"
     ]
    }
   ],
   "source": [
    "#File to save\n",
    "fname='t1'+str(int(time.time()))             # change file name\n",
    "directory= \"C:\\\\temp\\\\\"  # change folder name if necessary\n",
    "dataf1=directory+fname+'.csv'\n",
    "# dataf\n",
    "\n",
    "#File to save\n",
    "fname='t2'+str(int(time.time()))             # change file name\n",
    "directory= \"C:\\\\temp\\\\\"  # change folder name if necessary\n",
    "dataf2=directory+fname+'.csv'\n",
    "# dataf\n",
    "print (dataf2)"
   ]
  },
  {
   "cell_type": "code",
   "execution_count": null,
   "id": "480dbe98",
   "metadata": {},
   "outputs": [],
   "source": []
  },
  {
   "cell_type": "code",
   "execution_count": null,
   "id": "4f6e58ef",
   "metadata": {},
   "outputs": [],
   "source": []
  },
  {
   "cell_type": "code",
   "execution_count": 11,
   "id": "9906a7f0",
   "metadata": {},
   "outputs": [
    {
     "data": {
      "text/html": [
       "<div>\n",
       "<style scoped>\n",
       "    .dataframe tbody tr th:only-of-type {\n",
       "        vertical-align: middle;\n",
       "    }\n",
       "\n",
       "    .dataframe tbody tr th {\n",
       "        vertical-align: top;\n",
       "    }\n",
       "\n",
       "    .dataframe thead th {\n",
       "        text-align: right;\n",
       "    }\n",
       "</style>\n",
       "<table border=\"1\" class=\"dataframe\">\n",
       "  <thead>\n",
       "    <tr style=\"text-align: right;\">\n",
       "      <th></th>\n",
       "      <th>Volt (mV)</th>\n",
       "      <th>Curr (mA)</th>\n",
       "      <th>Power</th>\n",
       "    </tr>\n",
       "  </thead>\n",
       "  <tbody>\n",
       "    <tr>\n",
       "      <th>0</th>\n",
       "      <td>8.996</td>\n",
       "      <td>0</td>\n",
       "      <td>0.00044614</td>\n",
       "    </tr>\n",
       "    <tr>\n",
       "      <th>1</th>\n",
       "      <td>8.997</td>\n",
       "      <td>0</td>\n",
       "      <td>0</td>\n",
       "    </tr>\n",
       "    <tr>\n",
       "      <th>2</th>\n",
       "      <td>8.998</td>\n",
       "      <td>0</td>\n",
       "      <td>0</td>\n",
       "    </tr>\n",
       "    <tr>\n",
       "      <th>3</th>\n",
       "      <td>8.998</td>\n",
       "      <td>0</td>\n",
       "      <td>0</td>\n",
       "    </tr>\n",
       "    <tr>\n",
       "      <th>4</th>\n",
       "      <td>8.998</td>\n",
       "      <td>0</td>\n",
       "      <td>0</td>\n",
       "    </tr>\n",
       "  </tbody>\n",
       "</table>\n",
       "</div>"
      ],
      "text/plain": [
       "  Volt (mV) Curr (mA)       Power\n",
       "0     8.996         0  0.00044614\n",
       "1     8.997         0           0\n",
       "2     8.998         0           0\n",
       "3     8.998         0           0\n",
       "4     8.998         0           0"
      ]
     },
     "execution_count": 11,
     "metadata": {},
     "output_type": "execute_result"
    }
   ],
   "source": [
    "    \n",
    "data1=pd.DataFrame({'Volt (mV)':V1,\n",
    "                   'Curr (mA)':I1,\n",
    "                    'Power': P1})\n",
    "data1.to_csv(dataf1)\n",
    "# V1.clear()\n",
    "# I1.clear()\n",
    "# P1.clear()\n",
    "data1.head()"
   ]
  },
  {
   "cell_type": "code",
   "execution_count": 12,
   "id": "6c5fc815",
   "metadata": {},
   "outputs": [
    {
     "data": {
      "text/html": [
       "<div>\n",
       "<style scoped>\n",
       "    .dataframe tbody tr th:only-of-type {\n",
       "        vertical-align: middle;\n",
       "    }\n",
       "\n",
       "    .dataframe tbody tr th {\n",
       "        vertical-align: top;\n",
       "    }\n",
       "\n",
       "    .dataframe thead th {\n",
       "        text-align: right;\n",
       "    }\n",
       "</style>\n",
       "<table border=\"1\" class=\"dataframe\">\n",
       "  <thead>\n",
       "    <tr style=\"text-align: right;\">\n",
       "      <th></th>\n",
       "      <th>Volt (mV)</th>\n",
       "      <th>Curr (mA)</th>\n",
       "      <th>Power</th>\n",
       "    </tr>\n",
       "  </thead>\n",
       "  <tbody>\n",
       "    <tr>\n",
       "      <th>0</th>\n",
       "      <td>8.996</td>\n",
       "      <td>1e-04</td>\n",
       "      <td>0.00092663</td>\n",
       "    </tr>\n",
       "    <tr>\n",
       "      <th>1</th>\n",
       "      <td>8.997</td>\n",
       "      <td>0</td>\n",
       "      <td>0</td>\n",
       "    </tr>\n",
       "    <tr>\n",
       "      <th>2</th>\n",
       "      <td>8.998</td>\n",
       "      <td>0</td>\n",
       "      <td>0</td>\n",
       "    </tr>\n",
       "    <tr>\n",
       "      <th>3</th>\n",
       "      <td>8.998</td>\n",
       "      <td>0</td>\n",
       "      <td>0</td>\n",
       "    </tr>\n",
       "    <tr>\n",
       "      <th>4</th>\n",
       "      <td>8.998</td>\n",
       "      <td>0</td>\n",
       "      <td>0</td>\n",
       "    </tr>\n",
       "  </tbody>\n",
       "</table>\n",
       "</div>"
      ],
      "text/plain": [
       "  Volt (mV) Curr (mA)       Power\n",
       "0     8.996     1e-04  0.00092663\n",
       "1     8.997         0           0\n",
       "2     8.998         0           0\n",
       "3     8.998         0           0\n",
       "4     8.998         0           0"
      ]
     },
     "execution_count": 12,
     "metadata": {},
     "output_type": "execute_result"
    }
   ],
   "source": [
    "    \n",
    "data2=pd.DataFrame({'Volt (mV)':V2,\n",
    "                   'Curr (mA)':I2,\n",
    "                    'Power': P2})\n",
    "data2.to_csv(dataf2)\n",
    "# V2.clear()\n",
    "# I2.clear()\n",
    "# P2.clear()\n",
    "data2.head()"
   ]
  },
  {
   "cell_type": "code",
   "execution_count": 27,
   "id": "6ce5c3ad",
   "metadata": {},
   "outputs": [
    {
     "ename": "NameError",
     "evalue": "name 'data' is not defined",
     "output_type": "error",
     "traceback": [
      "\u001b[1;31m---------------------------------------------------------------------------\u001b[0m",
      "\u001b[1;31mNameError\u001b[0m                                 Traceback (most recent call last)",
      "\u001b[1;32mC:\\Users\\VLH800~1\\AppData\\Local\\Temp/ipykernel_7932/4253535262.py\u001b[0m in \u001b[0;36m<module>\u001b[1;34m\u001b[0m\n\u001b[1;32m----> 1\u001b[1;33m \u001b[0mplt\u001b[0m\u001b[1;33m.\u001b[0m\u001b[0mplot\u001b[0m\u001b[1;33m(\u001b[0m\u001b[0mdata\u001b[0m\u001b[1;33m[\u001b[0m\u001b[1;34m'Curr (mA)'\u001b[0m\u001b[1;33m]\u001b[0m\u001b[1;33m*\u001b[0m\u001b[1;36m1000\u001b[0m\u001b[1;33m,\u001b[0m \u001b[0mdata\u001b[0m\u001b[1;33m[\u001b[0m\u001b[1;34m'Resistance'\u001b[0m\u001b[1;33m]\u001b[0m\u001b[1;33m)\u001b[0m\u001b[1;33m\u001b[0m\u001b[1;33m\u001b[0m\u001b[0m\n\u001b[0m\u001b[0;32m      2\u001b[0m \u001b[0mplt\u001b[0m\u001b[1;33m.\u001b[0m\u001b[0mshow\u001b[0m\u001b[1;33m(\u001b[0m\u001b[1;33m)\u001b[0m\u001b[1;33m\u001b[0m\u001b[1;33m\u001b[0m\u001b[0m\n",
      "\u001b[1;31mNameError\u001b[0m: name 'data' is not defined"
     ]
    }
   ],
   "source": [
    "plt.plot(data['Curr (mA)']*1000, data['Resistance'])\n",
    "plt.show()"
   ]
  },
  {
   "cell_type": "code",
   "execution_count": 13,
   "id": "508f9847",
   "metadata": {},
   "outputs": [
    {
     "data": {
      "text/plain": [
       "10"
      ]
     },
     "execution_count": 13,
     "metadata": {},
     "output_type": "execute_result"
    }
   ],
   "source": [
    "\n",
    "t1.write('output 0')\n",
    "t2.write('output 0')"
   ]
  },
  {
   "cell_type": "code",
   "execution_count": null,
   "id": "aae713df",
   "metadata": {},
   "outputs": [],
   "source": []
  },
  {
   "cell_type": "code",
   "execution_count": null,
   "id": "3e4e6046",
   "metadata": {},
   "outputs": [],
   "source": []
  },
  {
   "cell_type": "code",
   "execution_count": null,
   "id": "c2a9b8ac",
   "metadata": {},
   "outputs": [],
   "source": []
  },
  {
   "cell_type": "code",
   "execution_count": null,
   "id": "d2a8e404",
   "metadata": {},
   "outputs": [],
   "source": []
  }
 ],
 "metadata": {
  "kernelspec": {
   "display_name": "Python 3 (ipykernel)",
   "language": "python",
   "name": "python3"
  },
  "language_info": {
   "codemirror_mode": {
    "name": "ipython",
    "version": 3
   },
   "file_extension": ".py",
   "mimetype": "text/x-python",
   "name": "python",
   "nbconvert_exporter": "python",
   "pygments_lexer": "ipython3",
   "version": "3.9.7"
  }
 },
 "nbformat": 4,
 "nbformat_minor": 5
}
